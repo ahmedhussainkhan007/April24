{
 "cells": [
  {
   "cell_type": "markdown",
   "metadata": {},
   "source": [
    "# trying while loop"
   ]
  },
  {
   "cell_type": "code",
   "execution_count": 49,
   "metadata": {},
   "outputs": [
    {
     "name": "stdout",
     "output_type": "stream",
     "text": [
      "1\n",
      "2\n",
      "3\n",
      "4\n",
      "5\n",
      "6\n",
      "7\n",
      "8\n",
      "9\n",
      "10\n"
     ]
    }
   ],
   "source": [
    "# print all numbers till 10\n",
    "index = 1\n",
    "while index  <= 10:\n",
    "    print(index)\n",
    "    index +=1 #index = + 1 \n"
   ]
  },
  {
   "cell_type": "code",
   "execution_count": 50,
   "metadata": {},
   "outputs": [
    {
     "name": "stdout",
     "output_type": "stream",
     "text": [
      "2\n",
      "4\n",
      "6\n",
      "8\n"
     ]
    }
   ],
   "source": [
    "# print all even numbers below 10\n",
    "index = 1\n",
    "while index < 10:\n",
    "    if index%2 == 0:\n",
    "        print(index)\n",
    "    index += 1\n",
    "            \n"
   ]
  },
  {
   "cell_type": "code",
   "execution_count": 56,
   "metadata": {},
   "outputs": [
    {
     "name": "stdout",
     "output_type": "stream",
     "text": [
      "0\n",
      "end of program\n",
      "end of program\n",
      "2\n",
      "end of program\n",
      "end of program\n",
      "4\n",
      "end of program\n",
      "end of program\n",
      "6\n",
      "end of program\n",
      "end of program\n",
      "8\n",
      "end of program\n"
     ]
    }
   ],
   "source": [
    "index = 0\n",
    "while True:\n",
    "    if index%2 == 0:\n",
    "        print(index)\n",
    "    index += 1\n",
    "    if index >=10:\n",
    "        break\n",
    "    print(\"end of program\")   "
   ]
  },
  {
   "cell_type": "code",
   "execution_count": 59,
   "metadata": {},
   "outputs": [
    {
     "name": "stdout",
     "output_type": "stream",
     "text": [
      "prime number\n",
      "prime number\n",
      "prime number\n",
      "prime number\n",
      "prime number\n"
     ]
    }
   ],
   "source": [
    "# lets finf if numbers are prime or not\n",
    "is_prime = True\n",
    "number = 7\n",
    "index = 2\n",
    "while index < number:\n",
    "    if number % index == 0:\n",
    "        is_prime = False\n",
    "        break\n",
    "    index += 1\n",
    "    if is_prime:\n",
    "        print(\"prime number\")"
   ]
  },
  {
   "cell_type": "code",
   "execution_count": 1,
   "metadata": {},
   "outputs": [
    {
     "name": "stdout",
     "output_type": "stream",
     "text": [
      "1\n"
     ]
    }
   ],
   "source": [
    "# we need to improve this program down the line\n",
    "number = int(input (\"Enter the number: \"))\n",
    "result = 0\n",
    "while True:\n",
    "    result = result + (number%10)\n",
    "    number = number // 10\n",
    "    if result < 10 and number == 0:\n",
    "        break\n",
    "    if number == 0:\n",
    "        number = result\n",
    "        result = 0\n",
    "print(result)        "
   ]
  },
  {
   "cell_type": "markdown",
   "metadata": {},
   "source": [
    "### 3n + 1 problem\n",
    "take input from user\n",
    "\n",
    "if input is even divide it by 2 and if it is odd calculate (3 *input + 1)\n",
    "continue doing the above step untill the value becomes 1\n",
    "print all the transactions\n",
    "\n",
    "input = 4\n",
    "2\n",
    "1\n",
    "\n",
    "input = 5\n",
    "16\n",
    "8\n",
    "4\n",
    "2\n",
    "1"
   ]
  },
  {
   "cell_type": "code",
   "execution_count": 10,
   "metadata": {},
   "outputs": [
    {
     "name": "stdout",
     "output_type": "stream",
     "text": [
      "10\n",
      "5\n",
      "16\n",
      "8\n",
      "4\n",
      "2\n",
      "1\n",
      "1\n"
     ]
    }
   ],
   "source": [
    "number = 3\n",
    "\n",
    "while True:\n",
    "    if number == 1:\n",
    "        break\n",
    "    elif number%2 == 0: # even\n",
    "     number = number // 2\n",
    "    elif number%2 == 1: # odd\n",
    "     number = (number * 3) + 1\n",
    "    print (number)\n",
    "\n",
    "print (number)\n"
   ]
  },
  {
   "cell_type": "markdown",
   "metadata": {},
   "source": [
    "# numerical sequence generator\n",
    "* range(start, stop, increament=1)"
   ]
  },
  {
   "cell_type": "code",
   "execution_count": 12,
   "metadata": {},
   "outputs": [
    {
     "name": "stdout",
     "output_type": "stream",
     "text": [
      "1\n",
      "2\n",
      "3\n",
      "4\n",
      "5\n",
      "6\n",
      "7\n",
      "8\n",
      "9\n"
     ]
    }
   ],
   "source": [
    "items = range (1,10)\n",
    "for item in items:\n",
    "    print(item)\n"
   ]
  },
  {
   "cell_type": "code",
   "execution_count": 13,
   "metadata": {},
   "outputs": [
    {
     "name": "stdout",
     "output_type": "stream",
     "text": [
      "1\n",
      "3\n",
      "5\n",
      "7\n",
      "9\n"
     ]
    }
   ],
   "source": [
    "items = range (1,10,2)\n",
    "for item in items:\n",
    "    print(item)\n"
   ]
  },
  {
   "cell_type": "code",
   "execution_count": 15,
   "metadata": {},
   "outputs": [
    {
     "name": "stdout",
     "output_type": "stream",
     "text": [
      "10\n",
      "9\n",
      "8\n",
      "7\n",
      "6\n",
      "5\n",
      "4\n",
      "3\n",
      "2\n",
      "1\n"
     ]
    }
   ],
   "source": [
    "items = range (10,0,-1)\n",
    "for item in items:\n",
    "    print(item)\n"
   ]
  },
  {
   "cell_type": "code",
   "execution_count": 46,
   "metadata": {},
   "outputs": [],
   "source": [
    "# print all even numbers from 1 to 100\n",
    "for number in range(1-11):\n",
    "    if number%2 == 0:\n",
    "        print(number)         "
   ]
  },
  {
   "cell_type": "code",
   "execution_count": 2,
   "metadata": {},
   "outputs": [],
   "source": [
    "# number guessing game\n",
    "# user will be given 6 chances\n",
    "\n",
    "# guess a number between 1 and 100\n",
    "import random\n",
    "number_number = random.randint(1,100) \n",
    "did_user_win = False\n",
    "for chance in range (6,0,-1):\n",
    "    guessed_number =int(input(\"Enter your name: \"))\n",
    "    if guessed_number == \"random_number\":\n",
    "        print(\"Hooray!... you have won\")\n",
    "        did_user_win = True\n",
    "        break\n",
    "    elif \"gussed_number\" > \"randon_number\":\n",
    "        print(\"Actual number is little bit lower than what you have guessed\")\n",
    "    else:\n",
    "        print(\"Actual number is little bit higher than what you have guessed\")\n",
    "if not did_user_win:\n",
    "     print (\"bad luck try again. \")"
   ]
  }
 ],
 "metadata": {
  "kernelspec": {
   "display_name": "Python 3",
   "language": "python",
   "name": "python3"
  },
  "language_info": {
   "codemirror_mode": {
    "name": "ipython",
    "version": 3
   },
   "file_extension": ".py",
   "mimetype": "text/x-python",
   "name": "python",
   "nbconvert_exporter": "python",
   "pygments_lexer": "ipython3",
   "version": "3.12.3"
  }
 },
 "nbformat": 4,
 "nbformat_minor": 2
}
