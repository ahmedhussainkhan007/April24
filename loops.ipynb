{
 "cells": [
  {
   "cell_type": "markdown",
   "metadata": {},
   "source": [
    "# trying while loop"
   ]
  },
  {
   "cell_type": "code",
   "execution_count": 49,
   "metadata": {},
   "outputs": [
    {
     "name": "stdout",
     "output_type": "stream",
     "text": [
      "1\n",
      "2\n",
      "3\n",
      "4\n",
      "5\n",
      "6\n",
      "7\n",
      "8\n",
      "9\n",
      "10\n"
     ]
    }
   ],
   "source": [
    "# print all numbers till 10\n",
    "index = 1\n",
    "while index  <= 10:\n",
    "    print(index)\n",
    "    index +=1 #index = + 1 \n"
   ]
  },
  {
   "cell_type": "code",
   "execution_count": 50,
   "metadata": {},
   "outputs": [
    {
     "name": "stdout",
     "output_type": "stream",
     "text": [
      "2\n",
      "4\n",
      "6\n",
      "8\n"
     ]
    }
   ],
   "source": [
    "# print all even numbers below 10\n",
    "index = 1\n",
    "while index < 10:\n",
    "    if index%2 == 0:\n",
    "        print(index)\n",
    "    index += 1\n",
    "            \n"
   ]
  },
  {
   "cell_type": "code",
   "execution_count": 56,
   "metadata": {},
   "outputs": [
    {
     "name": "stdout",
     "output_type": "stream",
     "text": [
      "0\n",
      "end of program\n",
      "end of program\n",
      "2\n",
      "end of program\n",
      "end of program\n",
      "4\n",
      "end of program\n",
      "end of program\n",
      "6\n",
      "end of program\n",
      "end of program\n",
      "8\n",
      "end of program\n"
     ]
    }
   ],
   "source": [
    "index = 0\n",
    "while True:\n",
    "    if index%2 == 0:\n",
    "        print(index)\n",
    "    index += 1\n",
    "    if index >=10:\n",
    "        break\n",
    "    print(\"end of program\")   "
   ]
  },
  {
   "cell_type": "code",
   "execution_count": 59,
   "metadata": {},
   "outputs": [
    {
     "name": "stdout",
     "output_type": "stream",
     "text": [
      "prime number\n",
      "prime number\n",
      "prime number\n",
      "prime number\n",
      "prime number\n"
     ]
    }
   ],
   "source": [
    "# lets finf if numbers are prime or not\n",
    "is_prime = True\n",
    "number = 7\n",
    "index = 2\n",
    "while index < number:\n",
    "    if number % index == 0:\n",
    "        is_prime = False\n",
    "        break\n",
    "    index += 1\n",
    "    if is_prime:\n",
    "        print(\"prime number\")"
   ]
  }
 ],
 "metadata": {
  "kernelspec": {
   "display_name": "Python 3",
   "language": "python",
   "name": "python3"
  },
  "language_info": {
   "codemirror_mode": {
    "name": "ipython",
    "version": 3
   },
   "file_extension": ".py",
   "mimetype": "text/x-python",
   "name": "python",
   "nbconvert_exporter": "python",
   "pygments_lexer": "ipython3",
   "version": "3.12.3"
  }
 },
 "nbformat": 4,
 "nbformat_minor": 2
}
